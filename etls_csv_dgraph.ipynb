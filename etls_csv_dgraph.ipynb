{
 "cells": [
  {
   "cell_type": "code",
   "execution_count": 33,
   "metadata": {},
   "outputs": [],
   "source": [
    "csv_file = spark.read.load(\"/home/juniordev/Downloads/empenhos.csv\", sep=\";\", format=\"csv\", header=\"true\", encoding=\"ISO-8859-1\")"
   ]
  },
  {
   "cell_type": "code",
   "execution_count": 34,
   "metadata": {},
   "outputs": [],
   "source": [
    "from unidecode import unidecode"
   ]
  },
  {
   "cell_type": "code",
   "execution_count": 14,
   "metadata": {},
   "outputs": [],
   "source": [
    "# columns = csv_file.columns"
   ]
  },
  {
   "cell_type": "code",
   "execution_count": 35,
   "metadata": {},
   "outputs": [
    {
     "name": "stderr",
     "output_type": "stream",
     "text": [
      "/opt/spark/python/pyspark/sql/session.py:366: UserWarning: Using RDD of dict to inferSchema is deprecated. Use pyspark.sql.Row instead\n",
      "  warnings.warn(\"Using RDD of dict to inferSchema is deprecated. \"\n"
     ]
    }
   ],
   "source": [
    "def transform_row(row):\n",
    "    row_dict = row.asDict()\n",
    "    for column in row_dict.keys():\n",
    "        row_dict[column] = \"\" if row_dict[column] is None else row_dict[column]\n",
    "        row_dict[column] = row_dict[column].upper()\n",
    "        row_dict[column] = row_dict[column].strip()\n",
    "        row_dict[column] = unidecode(row_dict[column])\n",
    "        row_dict[column] = row_dict[column].replace('\"', '').replace(\"'\", '').replace('\\\\', '\\\\\\\\')\n",
    "        row_dict[column] = ' '.join(row_dict[column].split(' '))\n",
    "    return row_dict\n",
    "rdd = csv_file.rdd.map(transform_row)\n",
    "df = spark.createDataFrame(rdd)"
   ]
  },
  {
   "cell_type": "code",
   "execution_count": 38,
   "metadata": {},
   "outputs": [],
   "source": [
    "# df.select(\"ano\").show()"
   ]
  },
  {
   "cell_type": "code",
   "execution_count": 37,
   "metadata": {},
   "outputs": [],
   "source": [
    "df.write.csv('/home/juniordev/Documentos/oddin-suite/teste', header=True);"
   ]
  },
  {
   "cell_type": "code",
   "execution_count": null,
   "metadata": {},
   "outputs": [],
   "source": [
    "# print(dir(rdd[0]))\n",
    "# print((rdd[0].asDict().values()))"
   ]
  },
  {
   "cell_type": "code",
   "execution_count": 39,
   "metadata": {},
   "outputs": [],
   "source": [
    "# from pyspark.sql.functions import upper, col, ltrim, rtrim, regexp_replace, split\n",
    "# for column in columns:\n",
    "#     df = csv_file.select(rtrim(ltrim(upper(col(column)))).alias(column))\n",
    "#     df = df.select(unidecode(column))\n",
    "#     df = df.select(regexp_replace(col(column), '\"', '').alias(column))\n",
    "#     df = df.select(regexp_replace(col(column), \"'\", '').alias(column))\n",
    "#     df = df.select(regexp_replace(col(column), r'\\\\', r\"\\\\\\\\\").alias(column))\n",
    "#     df = df.na.fill('')\n",
    "#     df.show()"
   ]
  },
  {
   "cell_type": "code",
   "execution_count": null,
   "metadata": {},
   "outputs": [],
   "source": []
  }
 ],
 "metadata": {
  "kernelspec": {
   "display_name": "Python 3",
   "language": "python",
   "name": "python3"
  },
  "language_info": {
   "codemirror_mode": {
    "name": "ipython",
    "version": 3
   },
   "file_extension": ".py",
   "mimetype": "text/x-python",
   "name": "python",
   "nbconvert_exporter": "python",
   "pygments_lexer": "ipython3",
   "version": "3.7.5"
  }
 },
 "nbformat": 4,
 "nbformat_minor": 4
}
